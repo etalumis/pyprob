{
 "cells": [
  {
   "cell_type": "code",
   "execution_count": 1,
   "metadata": {},
   "outputs": [],
   "source": [
    "from pyprob.gymnasium import GymModel\n",
    "import matplotlib.pyplot as plt\n",
    "%matplotlib inline"
   ]
  },
  {
   "cell_type": "code",
   "execution_count": 2,
   "metadata": {},
   "outputs": [
    {
     "name": "stdout",
     "output_type": "stream",
     "text": [
      "Time spent  | Time remain.| Progress             | Trace   | ESS   | Traces/sec\n",
      "0d:00:00:00 | 0d:00:00:00 | #################### | 500/500 | 500.00 | 2,625.90       \n",
      "Creating new inference network...\n",
      "Observable reward: reshape not specified, using shape torch.Size([]).\n",
      "Observable reward: using embedding dim torch.Size([32]).\n",
      "Observable reward: observe embedding not specified, using the default FEEDFORWARD.\n",
      "Observable reward: embedding depth not specified, using the default 2.\n",
      "Observe embedding dimension: 32\n",
      "Train. time | Epoch| Trace     | Init. loss| Min. loss | Curr. loss| T.since min | Learn.rate| Traces/sec\n",
      "New layers, address: 394__forward__action__Categorical(len_probs:4)__1, distribution: Categorical\n",
      "New layers, address: 394__forward__action__Categorical(len_probs:4)__2, distribution: Categorical\n",
      "New layers, address: 394__forward__action__Categorical(len_probs:4)__3, distribution: Categorical\n",
      "New layers, address: 394__forward__action__Categorical(len_probs:4)__4, distribution: Categorical\n",
      "New layers, address: 394__forward__action__Categorical(len_probs:4)__5, distribution: Categorical\n",
      "New layers, address: 394__forward__action__Categorical(len_probs:4)__6, distribution: Categorical\n",
      "New layers, address: 394__forward__action__Categorical(len_probs:4)__7, distribution: Categorical\n",
      "New layers, address: 394__forward__action__Categorical(len_probs:4)__8, distribution: Categorical\n",
      "New layers, address: 394__forward__action__Categorical(len_probs:4)__9, distribution: Categorical\n",
      "New layers, address: 394__forward__action__Categorical(len_probs:4)__10, distribution: Categorical\n",
      "New layers, address: 394__forward__action__Categorical(len_probs:4)__11, distribution: Categorical\n",
      "New layers, address: 394__forward__action__Categorical(len_probs:4)__12, distribution: Categorical\n",
      "New layers, address: 394__forward__action__Categorical(len_probs:4)__13, distribution: Categorical\n",
      "New layers, address: 394__forward__action__Categorical(len_probs:4)__14, distribution: Categorical\n",
      "New layers, address: 394__forward__action__Categorical(len_probs:4)__15, distribution: Categorical\n",
      "New layers, address: 394__forward__action__Categorical(len_probs:4)__16, distribution: Categorical\n",
      "New layers, address: 394__forward__action__Categorical(len_probs:4)__17, distribution: Categorical\n",
      "New layers, address: 394__forward__action__Categorical(len_probs:4)__18, distribution: Categorical\n",
      "New layers, address: 394__forward__action__Categorical(len_probs:4)__19, distribution: Categorical\n",
      "New layers, address: 394__forward__action__Categorical(len_probs:4)__20, distribution: Categorical\n",
      "New layers, address: 394__forward__action__Categorical(len_probs:4)__21, distribution: Categorical\n",
      "New layers, address: 394__forward__action__Categorical(len_probs:4)__22, distribution: Categorical\n",
      "Total addresses: 22, parameters: 17,428\n"
     ]
    },
    {
     "name": "stderr",
     "output_type": "stream",
     "text": [
      "/opt/homebrew/anaconda3/envs/MLHEP3.11/lib/python3.11/site-packages/tqdm/auto.py:21: TqdmWarning: IProgress not found. Please update jupyter and ipywidgets. See https://ipywidgets.readthedocs.io/en/stable/user_install.html\n",
      "  from .autonotebook import tqdm as notebook_tqdm\n"
     ]
    },
    {
     "name": "stdout",
     "output_type": "stream",
     "text": [
      "New layers, address: 394__forward__action__Categorical(len_probs:4)__23, distribution: Categoricalm\u001b[32m0d:00:00:00\u001b[0m | +1.00e-03 | 2,242.5 \n",
      "New layers, address: 394__forward__action__Categorical(len_probs:4)__24, distribution: Categorical\n",
      "New layers, address: 394__forward__action__Categorical(len_probs:4)__25, distribution: Categorical\n",
      "New layers, address: 394__forward__action__Categorical(len_probs:4)__26, distribution: Categorical\n",
      "New layers, address: 394__forward__action__Categorical(len_probs:4)__27, distribution: Categorical\n",
      "New layers, address: 394__forward__action__Categorical(len_probs:4)__28, distribution: Categorical\n",
      "Total addresses: 28, parameters: 21,448\n",
      "New layers, address: 394__forward__action__Categorical(len_probs:4)__29, distribution: Categoricalm\u001b[32m0d:00:00:00\u001b[0m | +1.00e-03 | 135.7   \n",
      "New layers, address: 394__forward__action__Categorical(len_probs:4)__30, distribution: Categorical\n",
      "New layers, address: 394__forward__action__Categorical(len_probs:4)__31, distribution: Categorical\n",
      "Total addresses: 31, parameters: 23,458\n",
      "New layers, address: 394__forward__action__Categorical(len_probs:4)__32, distribution: Categorical-03 | 1,266.7                               \n",
      "New layers, address: 394__forward__action__Categorical(len_probs:4)__33, distribution: Categorical\n",
      "New layers, address: 394__forward__action__Categorical(len_probs:4)__34, distribution: Categorical\n",
      "Total addresses: 34, parameters: 25,468\n",
      "New layers, address: 394__forward__action__Categorical(len_probs:4)__35, distribution: Categorical-03 | 1,158.7                               \n",
      "New layers, address: 394__forward__action__Categorical(len_probs:4)__36, distribution: Categorical\n",
      "Total addresses: 36, parameters: 26,808\n",
      "New layers, address: 394__forward__action__Categorical(len_probs:4)__37, distribution: Categoricalm\u001b[32m0d:00:00:00\u001b[0m | +1.00e-03 | 1,240.8 \n",
      "New layers, address: 394__forward__action__Categorical(len_probs:4)__38, distribution: Categorical\n",
      "New layers, address: 394__forward__action__Categorical(len_probs:4)__39, distribution: Categorical\n",
      "New layers, address: 394__forward__action__Categorical(len_probs:4)__40, distribution: Categorical\n",
      "New layers, address: 394__forward__action__Categorical(len_probs:4)__41, distribution: Categorical\n",
      "New layers, address: 394__forward__action__Categorical(len_probs:4)__42, distribution: Categorical\n",
      "New layers, address: 394__forward__action__Categorical(len_probs:4)__43, distribution: Categorical\n",
      "Total addresses: 43, parameters: 31,498\n",
      "New layers, address: 394__forward__action__Categorical(len_probs:4)__44, distribution: Categorical-03 | 1,120.0                               \n",
      "New layers, address: 394__forward__action__Categorical(len_probs:4)__45, distribution: Categorical\n",
      "Total addresses: 45, parameters: 32,838\n",
      "New layers, address: 394__forward__action__Categorical(len_probs:4)__46, distribution: Categorical-03 | 1,241.6                               \n",
      "New layers, address: 394__forward__action__Categorical(len_probs:4)__47, distribution: Categorical\n",
      "New layers, address: 394__forward__action__Categorical(len_probs:4)__48, distribution: Categorical\n",
      "New layers, address: 394__forward__action__Categorical(len_probs:4)__49, distribution: Categorical\n",
      "New layers, address: 394__forward__action__Categorical(len_probs:4)__50, distribution: Categorical\n",
      "New layers, address: 394__forward__action__Categorical(len_probs:4)__51, distribution: Categorical\n",
      "New layers, address: 394__forward__action__Categorical(len_probs:4)__52, distribution: Categorical\n",
      "New layers, address: 394__forward__action__Categorical(len_probs:4)__53, distribution: Categorical\n",
      "New layers, address: 394__forward__action__Categorical(len_probs:4)__54, distribution: Categorical\n",
      "New layers, address: 394__forward__action__Categorical(len_probs:4)__55, distribution: Categorical\n",
      "New layers, address: 394__forward__action__Categorical(len_probs:4)__56, distribution: Categorical\n",
      "New layers, address: 394__forward__action__Categorical(len_probs:4)__57, distribution: Categorical\n",
      "New layers, address: 394__forward__action__Categorical(len_probs:4)__58, distribution: Categorical\n",
      "New layers, address: 394__forward__action__Categorical(len_probs:4)__59, distribution: Categorical\n",
      "New layers, address: 394__forward__action__Categorical(len_probs:4)__60, distribution: Categorical\n",
      "New layers, address: 394__forward__action__Categorical(len_probs:4)__61, distribution: Categorical\n",
      "New layers, address: 394__forward__action__Categorical(len_probs:4)__62, distribution: Categorical\n",
      "Total addresses: 62, parameters: 44,228\n",
      "0d:00:01:25 | 1    | 99,776    | +9.22e+00 | +5.96e+00 | \u001b[32m+7.86e+00\u001b[0m | 0d:00:01:12 | +1.00e-03 | 1,199.0                               \n",
      "Stop condition reached. num_traces: 100000\n",
      "0d:00:01:26 | 1    | 100,032   | +9.22e+00 | +5.96e+00 | \u001b[32m+7.57e+00\u001b[0m | 0d:00:01:12 | +1.00e-03 | 1,254.6                               \n",
      "Time spent  | Time remain.| Progress             | Trace   | ESS   | Traces/sec\n",
      "0d:00:00:00 | 0d:00:00:00 | #################### | 500/500 | 50.54 | 696.42       \n"
     ]
    }
   ],
   "source": [
    "model = GymModel(desc=[\"SFFF\",\"FHHF\",\"HHHG\",\"FFFF\"], is_slippery = False)\n",
    "prior = model.prior_results(500)\n",
    "posterior = model.inference_compilation(1, 100000, 500, False);"
   ]
  },
  {
   "cell_type": "code",
   "execution_count": 3,
   "metadata": {},
   "outputs": [],
   "source": [
    "fig = plt.figure();\n",
    "prior.plot_histogram(show=False, alpha=0.75, label='emprical prior')"
   ]
  },
  {
   "cell_type": "code",
   "execution_count": 4,
   "metadata": {},
   "outputs": [],
   "source": [
    "posterior.plot_histogram(show=False, alpha=0.75, label='posterior')\n",
    "plt.legend();"
   ]
  },
  {
   "cell_type": "code",
   "execution_count": null,
   "metadata": {},
   "outputs": [],
   "source": []
  }
 ],
 "metadata": {
  "kernelspec": {
   "display_name": "MLHEP3.11",
   "language": "python",
   "name": "python3"
  },
  "language_info": {
   "codemirror_mode": {
    "name": "ipython",
    "version": 3
   },
   "file_extension": ".py",
   "mimetype": "text/x-python",
   "name": "python",
   "nbconvert_exporter": "python",
   "pygments_lexer": "ipython3",
   "version": "3.11.8"
  }
 },
 "nbformat": 4,
 "nbformat_minor": 2
}
